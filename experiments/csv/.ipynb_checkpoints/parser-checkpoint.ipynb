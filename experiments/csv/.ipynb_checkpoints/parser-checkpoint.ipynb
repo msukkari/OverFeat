{
 "cells": [
  {
   "cell_type": "code",
   "execution_count": 1,
   "metadata": {},
   "outputs": [],
   "source": [
    "import pandas as pd\n",
    "import re"
   ]
  },
  {
   "cell_type": "code",
   "execution_count": 2,
   "metadata": {},
   "outputs": [],
   "source": [
    "with open(\"./weight_dropping_effect_to_100.txt\") as f:\n",
    "    content = f.readlines()\n",
    "content = [line.strip() for line in content]"
   ]
  },
  {
   "cell_type": "code",
   "execution_count": 3,
   "metadata": {},
   "outputs": [],
   "source": [
    "L = []\n",
    "confidences = []\n",
    "layers = []\n",
    "dropouts = []\n",
    "\n",
    "for data in content:\n",
    "    copy = data\n",
    "    data = data.split()\n",
    "    dropout = data[len(data) - 1]\n",
    "    layer =  data[len(data) - 2]\n",
    "    confidence =  data[len(data) - 3]\n",
    "    confidences.append(confidence)\n",
    "    dropouts.append(dropout)\n",
    "    layers.append(layer)\n",
    "    \n",
    "    l = re.compile(\"^(.+?)(?=\\\\d).*\").split(copy)\n",
    "    L.append(l[1])\n",
    "\n"
   ]
  },
  {
   "cell_type": "code",
   "execution_count": 4,
   "metadata": {},
   "outputs": [
    {
     "name": "stdout",
     "output_type": "stream",
     "text": [
      "True\n"
     ]
    }
   ],
   "source": [
    "print(len(layers) == len(confidences) == len(dropouts) == len(L))"
   ]
  },
  {
   "cell_type": "code",
   "execution_count": 5,
   "metadata": {},
   "outputs": [],
   "source": [
    "new_L = []\n",
    "for l in L:\n",
    "    new_L.append(l.replace(\",\", \"\"))\n",
    "L = new_L"
   ]
  },
  {
   "cell_type": "code",
   "execution_count": 6,
   "metadata": {},
   "outputs": [],
   "source": [
    "N_SAMPLES = 5\n",
    "N_DROPOUTS = 4\n",
    "confidences_avg = []\n",
    "dropouts_avg = []\n",
    "layers_avg = []\n",
    "output_avg = []\n",
    "# print(confidence)\n",
    "for i in range(0, len(L), N_SAMPLES):\n",
    "    confidence_avg = 0.0\n",
    "    for a in range(i, i + N_SAMPLES):\n",
    "        confidence_avg += float(confidences[i])\n",
    "    confidence_avg = confidence_avg / float(N_SAMPLES)\n",
    "    confidences_avg.append(confidence_avg)\n",
    "    dropouts_avg.append(dropouts[i])\n",
    "    layers_avg.append(layers[i])\n",
    "    output_avg.append(\"bee\")\n",
    "    "
   ]
  },
  {
   "cell_type": "code",
   "execution_count": 7,
   "metadata": {},
   "outputs": [
    {
     "data": {
      "text/html": [
       "<div>\n",
       "<style scoped>\n",
       "    .dataframe tbody tr th:only-of-type {\n",
       "        vertical-align: middle;\n",
       "    }\n",
       "\n",
       "    .dataframe tbody tr th {\n",
       "        vertical-align: top;\n",
       "    }\n",
       "\n",
       "    .dataframe thead th {\n",
       "        text-align: right;\n",
       "    }\n",
       "</style>\n",
       "<table border=\"1\" class=\"dataframe\">\n",
       "  <thead>\n",
       "    <tr style=\"text-align: right;\">\n",
       "      <th></th>\n",
       "      <th>confidence</th>\n",
       "      <th>layer</th>\n",
       "      <th>dropout</th>\n",
       "      <th>output</th>\n",
       "    </tr>\n",
       "  </thead>\n",
       "  <tbody>\n",
       "    <tr>\n",
       "      <th>0</th>\n",
       "      <td>0.862415</td>\n",
       "      <td>1</td>\n",
       "      <td>0</td>\n",
       "      <td>bee</td>\n",
       "    </tr>\n",
       "    <tr>\n",
       "      <th>1</th>\n",
       "      <td>0.002057</td>\n",
       "      <td>1</td>\n",
       "      <td>33</td>\n",
       "      <td>bee</td>\n",
       "    </tr>\n",
       "    <tr>\n",
       "      <th>2</th>\n",
       "      <td>0.000007</td>\n",
       "      <td>1</td>\n",
       "      <td>66</td>\n",
       "      <td>bee</td>\n",
       "    </tr>\n",
       "    <tr>\n",
       "      <th>3</th>\n",
       "      <td>0.000060</td>\n",
       "      <td>1</td>\n",
       "      <td>99</td>\n",
       "      <td>bee</td>\n",
       "    </tr>\n",
       "    <tr>\n",
       "      <th>4</th>\n",
       "      <td>0.862415</td>\n",
       "      <td>2</td>\n",
       "      <td>0</td>\n",
       "      <td>bee</td>\n",
       "    </tr>\n",
       "    <tr>\n",
       "      <th>5</th>\n",
       "      <td>0.158081</td>\n",
       "      <td>2</td>\n",
       "      <td>33</td>\n",
       "      <td>bee</td>\n",
       "    </tr>\n",
       "    <tr>\n",
       "      <th>6</th>\n",
       "      <td>0.108093</td>\n",
       "      <td>2</td>\n",
       "      <td>66</td>\n",
       "      <td>bee</td>\n",
       "    </tr>\n",
       "    <tr>\n",
       "      <th>7</th>\n",
       "      <td>0.000965</td>\n",
       "      <td>2</td>\n",
       "      <td>99</td>\n",
       "      <td>bee</td>\n",
       "    </tr>\n",
       "    <tr>\n",
       "      <th>8</th>\n",
       "      <td>0.984750</td>\n",
       "      <td>1</td>\n",
       "      <td>0</td>\n",
       "      <td>bee</td>\n",
       "    </tr>\n",
       "    <tr>\n",
       "      <th>9</th>\n",
       "      <td>0.000050</td>\n",
       "      <td>1</td>\n",
       "      <td>33</td>\n",
       "      <td>bee</td>\n",
       "    </tr>\n",
       "    <tr>\n",
       "      <th>10</th>\n",
       "      <td>0.000732</td>\n",
       "      <td>1</td>\n",
       "      <td>66</td>\n",
       "      <td>bee</td>\n",
       "    </tr>\n",
       "    <tr>\n",
       "      <th>11</th>\n",
       "      <td>0.000075</td>\n",
       "      <td>1</td>\n",
       "      <td>99</td>\n",
       "      <td>bee</td>\n",
       "    </tr>\n",
       "    <tr>\n",
       "      <th>12</th>\n",
       "      <td>0.984750</td>\n",
       "      <td>2</td>\n",
       "      <td>0</td>\n",
       "      <td>bee</td>\n",
       "    </tr>\n",
       "    <tr>\n",
       "      <th>13</th>\n",
       "      <td>0.610860</td>\n",
       "      <td>2</td>\n",
       "      <td>33</td>\n",
       "      <td>bee</td>\n",
       "    </tr>\n",
       "    <tr>\n",
       "      <th>14</th>\n",
       "      <td>0.036361</td>\n",
       "      <td>2</td>\n",
       "      <td>66</td>\n",
       "      <td>bee</td>\n",
       "    </tr>\n",
       "    <tr>\n",
       "      <th>15</th>\n",
       "      <td>0.000184</td>\n",
       "      <td>2</td>\n",
       "      <td>99</td>\n",
       "      <td>bee</td>\n",
       "    </tr>\n",
       "  </tbody>\n",
       "</table>\n",
       "</div>"
      ],
      "text/plain": [
       "    confidence layer dropout output\n",
       "0     0.862415     1       0    bee\n",
       "1     0.002057     1      33    bee\n",
       "2     0.000007     1      66    bee\n",
       "3     0.000060     1      99    bee\n",
       "4     0.862415     2       0    bee\n",
       "5     0.158081     2      33    bee\n",
       "6     0.108093     2      66    bee\n",
       "7     0.000965     2      99    bee\n",
       "8     0.984750     1       0    bee\n",
       "9     0.000050     1      33    bee\n",
       "10    0.000732     1      66    bee\n",
       "11    0.000075     1      99    bee\n",
       "12    0.984750     2       0    bee\n",
       "13    0.610860     2      33    bee\n",
       "14    0.036361     2      66    bee\n",
       "15    0.000184     2      99    bee"
      ]
     },
     "execution_count": 7,
     "metadata": {},
     "output_type": "execute_result"
    }
   ],
   "source": [
    "output_avg = pd.DataFrame(output_avg, columns=[\"output\"])\n",
    "dropouts_avg = pd.DataFrame(dropouts_avg, columns=[\"dropout\"])\n",
    "confidences_avg = pd.DataFrame(confidences_avg, columns=[\"confidence\"])\n",
    "layers_avg = pd.DataFrame(layers_avg, columns=[\"layer\"])\n",
    "df = pd.concat([confidences_avg, layers_avg, dropouts_avg, output_avg], axis=1)\n",
    "df\n"
   ]
  },
  {
   "cell_type": "code",
   "execution_count": 8,
   "metadata": {},
   "outputs": [],
   "source": [
    "fast_model = df.iloc[0: 8, :]\n",
    "accurate_model = df.iloc[8:, :]"
   ]
  },
  {
   "cell_type": "code",
   "execution_count": 9,
   "metadata": {},
   "outputs": [],
   "source": [
    "fast_model.to_csv('fast_model_weight_performance.csv', sep=',', index=None)\n",
    "accurate_model.to_csv('accurate_model_weight_performance.csv', sep=',', index=None)"
   ]
  },
  {
   "cell_type": "code",
   "execution_count": null,
   "metadata": {},
   "outputs": [],
   "source": []
  },
  {
   "cell_type": "code",
   "execution_count": null,
   "metadata": {},
   "outputs": [],
   "source": []
  }
 ],
 "metadata": {
  "kernelspec": {
   "display_name": "Python 3",
   "language": "python",
   "name": "python3"
  },
  "language_info": {
   "codemirror_mode": {
    "name": "ipython",
    "version": 3
   },
   "file_extension": ".py",
   "mimetype": "text/x-python",
   "name": "python",
   "nbconvert_exporter": "python",
   "pygments_lexer": "ipython3",
   "version": "3.6.5"
  }
 },
 "nbformat": 4,
 "nbformat_minor": 2
}
