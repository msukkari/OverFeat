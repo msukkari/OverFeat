{
 "cells": [
  {
   "cell_type": "code",
   "execution_count": 34,
   "metadata": {},
   "outputs": [],
   "source": [
    "import pandas as pd\n",
    "import re"
   ]
  },
  {
   "cell_type": "code",
   "execution_count": 35,
   "metadata": {},
   "outputs": [],
   "source": [
    "with open(\"./weight_dropping_effect_to_100.txt\") as f:\n",
    "    content = f.readlines()\n",
    "content = [line.strip() for line in content]"
   ]
  },
  {
   "cell_type": "code",
   "execution_count": 36,
   "metadata": {},
   "outputs": [],
   "source": [
    "# extract information\n",
    "L = []\n",
    "confidences = []\n",
    "layers = []\n",
    "dropouts = []\n",
    "\n",
    "for data in content:\n",
    "    copy = data\n",
    "    data = data.split()\n",
    "    dropout = data[len(data) - 1]\n",
    "    layer =  data[len(data) - 2]\n",
    "    confidence =  data[len(data) - 3]\n",
    "    confidences.append(confidence)\n",
    "    dropouts.append(dropout)\n",
    "    layers.append(layer)\n",
    "    \n",
    "    l = re.compile(\"^(.+?)(?=\\\\d).*\").split(copy)\n",
    "    L.append(l[1])\n",
    "\n"
   ]
  },
  {
   "cell_type": "code",
   "execution_count": 37,
   "metadata": {},
   "outputs": [
    {
     "name": "stdout",
     "output_type": "stream",
     "text": [
      "True\n"
     ]
    }
   ],
   "source": [
    "print(len(layers) == len(confidences) == len(dropouts) == len(L))"
   ]
  },
  {
   "cell_type": "code",
   "execution_count": 38,
   "metadata": {},
   "outputs": [],
   "source": [
    "new_L = []\n",
    "for l in L:\n",
    "    new_L.append(l.replace(\",\", \"\"))\n",
    "L = new_L"
   ]
  },
  {
   "cell_type": "code",
   "execution_count": 39,
   "metadata": {},
   "outputs": [],
   "source": [
    "# COMPUTE MEAN\n",
    "N_SAMPLES = 10\n",
    "confidences_avg = []\n",
    "dropouts_avg = []\n",
    "layers_avg = []\n",
    "output_avg = []\n",
    "# print(confidence)\n",
    "for i in range(0, len(L), N_SAMPLES):\n",
    "    confidence_avg = 0.0\n",
    "    for a in range(i, i + N_SAMPLES):\n",
    "        confidence_avg += float(confidences[i])\n",
    "    confidence_avg = confidence_avg / float(N_SAMPLES)\n",
    "    confidences_avg.append(confidence_avg)\n",
    "    dropouts_avg.append(dropouts[i])\n",
    "    layers_avg.append(layers[i])\n",
    "    output_avg.append(\"bee\")"
   ]
  },
  {
   "cell_type": "code",
   "execution_count": 40,
   "metadata": {},
   "outputs": [],
   "source": [
    "# STORE TO DATAFRAME\n",
    "output_avg = pd.DataFrame(output_avg, columns=[\"output\"])\n",
    "dropouts_avg = pd.DataFrame(dropouts_avg, columns=[\"dropout\"])\n",
    "confidences_avg = pd.DataFrame(confidences_avg, columns=[\"confidence\"])\n",
    "layers_avg = pd.DataFrame(layers_avg, columns=[\"layer\"])\n",
    "df = pd.concat([confidences_avg, layers_avg, dropouts_avg, output_avg], axis=1)"
   ]
  },
  {
   "cell_type": "code",
   "execution_count": 41,
   "metadata": {},
   "outputs": [],
   "source": [
    "fast_model = df.iloc[0:168, :]\n",
    "accurate_model = df.iloc[168:, :]"
   ]
  },
  {
   "cell_type": "code",
   "execution_count": 42,
   "metadata": {},
   "outputs": [],
   "source": [
    "fast_model.to_csv('fast_model_weight_performance.csv', sep=',', index=None)\n",
    "accurate_model.to_csv('accurate_model_weight_performance.csv', sep=',', index=None)"
   ]
  },
  {
   "cell_type": "code",
   "execution_count": null,
   "metadata": {},
   "outputs": [],
   "source": []
  }
 ],
 "metadata": {
  "kernelspec": {
   "display_name": "Python 3",
   "language": "python",
   "name": "python3"
  },
  "language_info": {
   "codemirror_mode": {
    "name": "ipython",
    "version": 3
   },
   "file_extension": ".py",
   "mimetype": "text/x-python",
   "name": "python",
   "nbconvert_exporter": "python",
   "pygments_lexer": "ipython3",
   "version": "3.6.5"
  }
 },
 "nbformat": 4,
 "nbformat_minor": 2
}
